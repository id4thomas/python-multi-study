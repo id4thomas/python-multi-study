{
 "metadata": {
  "language_info": {
   "codemirror_mode": {
    "name": "ipython",
    "version": 3
   },
   "file_extension": ".py",
   "mimetype": "text/x-python",
   "name": "python",
   "nbconvert_exporter": "python",
   "pygments_lexer": "ipython3",
   "version": "3.8.8"
  },
  "orig_nbformat": 4,
  "kernelspec": {
   "name": "ai",
   "display_name": "Python 3.8.8 64-bit ('ai': conda)"
  }
 },
 "nbformat": 4,
 "nbformat_minor": 2,
 "cells": [
  {
   "cell_type": "code",
   "execution_count": 1,
   "metadata": {},
   "outputs": [],
   "source": [
    "#Multiple Processes Sharing a File\n",
    "#https://stackoverflow.com/questions/13446445/python-multiprocessing-safely-writing-to-a-file\n",
    "#Have a Separate Listener Process for writing to file"
   ]
  },
  {
   "cell_type": "code",
   "execution_count": 2,
   "metadata": {},
   "outputs": [],
   "source": [
    "import multiprocessing as mp"
   ]
  },
  {
   "cell_type": "code",
   "execution_count": 3,
   "metadata": {},
   "outputs": [],
   "source": [
    "def writer(seed,log_q):\n",
    "    log_q.put(seed)\n",
    "\n",
    "def log_writer(log_q):\n",
    "    with open(\"test.txt\",'w') as f:\n",
    "        while 1:\n",
    "            m = log_q.get()\n",
    "            if m == 'kill':\n",
    "                break\n",
    "            f.write(str(m) + '\\n')\n",
    "            f.flush()\n"
   ]
  },
  {
   "cell_type": "code",
   "execution_count": 4,
   "metadata": {},
   "outputs": [],
   "source": [
    "#Prepare Manager & Queue\n",
    "manager = mp.Manager()\n",
    "log_q = manager.Queue()"
   ]
  },
  {
   "cell_type": "code",
   "execution_count": 5,
   "metadata": {},
   "outputs": [],
   "source": [
    "#Multiprocessing Pool\n",
    "#mp.cpu_count()+2 is rule of thumb to keep cpu saturated\n",
    "pool = mp.Pool(mp.cpu_count() + 2)"
   ]
  },
  {
   "cell_type": "code",
   "execution_count": 6,
   "metadata": {},
   "outputs": [],
   "source": [
    "#Start Separate process for file io\n",
    "watcher = pool.apply_async(log_writer, (log_q,))"
   ]
  },
  {
   "cell_type": "code",
   "execution_count": 7,
   "metadata": {},
   "outputs": [],
   "source": [
    "#Start Processes\n",
    "seeds=range(10,160,10)\n",
    "processes=[]\n",
    "for seed in seeds:\n",
    "    job = pool.apply_async(writer, (seed, log_q))\n",
    "    processes.append(job)"
   ]
  },
  {
   "cell_type": "code",
   "execution_count": 8,
   "metadata": {},
   "outputs": [],
   "source": [
    "for p in processes:\n",
    "    p.get()"
   ]
  },
  {
   "cell_type": "code",
   "execution_count": 9,
   "metadata": {},
   "outputs": [],
   "source": [
    "#Kill Listener Process\n",
    "log_q.put('kill')\n",
    "pool.close()\n",
    "pool.join()"
   ]
  }
 ]
}